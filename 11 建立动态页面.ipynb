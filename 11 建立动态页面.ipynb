{
 "cells": [
  {
   "cell_type": "markdown",
   "metadata": {},
   "source": [
    "## 11.1 在网页上显示当前日期\n",
    "\n"
   ]
  },
  {
   "cell_type": "code",
   "execution_count": null,
   "metadata": {},
   "outputs": [],
   "source": [
    "window.addEventListener(\"load\",initDate,false);\n",
    "\n",
    "function initDate() {\n",
    "\tvar dayName = new Array(\"Sunday\", \"Monday\", \"Tuesday\", \"Wednesday\", \"Thursday\", \"Friday\", \"Saturday\");\n",
    "\tvar monName = new Array(\"January\", \"February\", \"March\", \"April\", \"May\", \"June\", \"July\", \"August\", \"September\", \"October\", \"November\", \"December\");\n",
    "\t\n",
    "\tvar now = new Date();\n",
    "\tvar dtString = dayName[now.getDay()] + \", \" + monName[now.getMonth()] + \" \" + now.getDate();\n",
    "\n",
    "\tdocument.getElementById(\"dtField\").innerHTML = dtString;\n",
    "}\n",
    "\n"
   ]
  },
  {
   "cell_type": "markdown",
   "metadata": {},
   "source": [
    "## 11.2 处理周中的日期"
   ]
  },
  {
   "cell_type": "code",
   "execution_count": null,
   "metadata": {},
   "outputs": [],
   "source": [
    "window.addEventListener(\"load\",initDate,false);\n",
    "\n",
    "function initDate() {\n",
    "\tvar now = new Date();\n",
    "\n",
    "\tif (now.getDay() > 0 && now.getDay() < 6) {\n",
    "\t\tvar dtString = \"Sorry, it's a weekday.\";\n",
    "\t}\n",
    "\telse {\n",
    "\t\tvar dtString = \"Hooray, it's a weekend!\";\n",
    "\t}\n",
    "\t\n",
    "\tdocument.getElementById(\"dtField\").innerHTML = dtString;\n",
    "}\n"
   ]
  },
  {
   "cell_type": "markdown",
   "metadata": {},
   "source": [
    "## 11.3 根据时间对消息进行定制"
   ]
  },
  {
   "cell_type": "code",
   "execution_count": null,
   "metadata": {},
   "outputs": [],
   "source": [
    "window.addEventListener(\"load\",initDate,false);\n",
    "\n",
    "function initDate() {\n",
    "\tvar now = new Date();\n",
    "\tdocument.getElementById(\"dtField\").innerHTML = timeString(now.getHours());\n",
    "\n",
    "\tfunction timeString(theHour) {\n",
    "\t\tif (theHour < 5) {\n",
    "\t\t\treturn \"What are you doing up so late?\";\n",
    "\t\t}\n",
    "\t\tif (theHour < 9) {\n",
    "\t\t\treturn \"Good Morning!\";\n",
    "\t\t}\n",
    "\t\tif (theHour < 17) {\n",
    "\t\t\treturn \"No surfing during working hours!\";\n",
    "\t\t}\n",
    "\t\treturn \"Good Evening!\";\n",
    "\t}\n",
    "}\n"
   ]
  },
  {
   "cell_type": "markdown",
   "metadata": {},
   "source": [
    "## 11.4 根据时区显示日期"
   ]
  },
  {
   "cell_type": "code",
   "execution_count": null,
   "metadata": {},
   "outputs": [],
   "source": [
    "window.addEventListener(\"load\",initDate,false);\n",
    "\n",
    "function initDate() {\n",
    "\tvar spanTags = document.getElementsByTagName(\"span\");\n",
    "\t\n",
    "\tfor (var i=0; i<spanTags.length; i++) {\n",
    "\t\tif (spanTags[i].className.indexOf(\"tz\") == 0) {\n",
    "\t\t\tshowTheTime(spanTags[i],spanTags[i].className.substring(2));\n",
    "\t\t}\n",
    "\t}\n",
    "}\n",
    "\n",
    "function showTheTime(currElem,tzOffset) {\n",
    "\tvar dayName = new Array(\"Sunday\",\"Monday\",\"Tuesday\",\"Wednesday\",\"Thursday\",\"Friday\",\"Saturday\");\n",
    "\n",
    "\tvar thatTZ = new Date();\n",
    "\tvar dateStr = thatTZ.toUTCString();\n",
    "\n",
    "\tdateStr = dateStr.substr(0,dateStr.length - 3);\n",
    "\tthatTZ.setTime(Date.parse(dateStr));\n",
    "\tthatTZ.setHours(thatTZ.getHours() + parseInt(tzOffset));\n",
    "\t\n",
    "\tcurrElem.innerHTML = showTheHours(thatTZ.getHours()) + showZeroFilled(thatTZ.getMinutes()) + showAmPm(thatTZ.getHours()) + dayName[thatTZ.getDay()];\n",
    "\n",
    "\tfunction showTheHours(theHour) {\n",
    "\t\tif (theHour == 0) {\n",
    "\t\t\treturn 12;\n",
    "\t\t}\n",
    "\t\tif (theHour < 13) {\n",
    "\t\t\treturn theHour;\n",
    "\t\t}\n",
    "\t\treturn theHour-12;\n",
    "\t}\n",
    "\t\n",
    "\tfunction showZeroFilled(inValue) {\n",
    "\t\tif (inValue > 9) {\n",
    "\t\t\treturn \":\" + inValue;\n",
    "\t\t}\n",
    "\t\treturn \":0\" + inValue;\n",
    "\t}\n",
    "\t\n",
    "\tfunction showAmPm(thatTime) {\n",
    "\t\tif (thatTime < 12) {\n",
    "\t\t\treturn \" AM \";\n",
    "\t\t}\n",
    "\t\treturn \" PM \";\n",
    "\t}\n",
    "}\n"
   ]
  },
  {
   "cell_type": "markdown",
   "metadata": {},
   "source": [
    "## 11.5 把 24 小时制转换为 12 小时制"
   ]
  },
  {
   "cell_type": "code",
   "execution_count": null,
   "metadata": {},
   "outputs": [],
   "source": [
    "window.addEventListener(\"load\",showTheTime,false);\n",
    "\n",
    "function showTheTime() {\n",
    "\tvar now = new Date();\n",
    "\n",
    "\tdocument.getElementById(\"showTime\").innerHTML = showTheHours(now.getHours()) + showZeroFilled(now.getMinutes()) + showZeroFilled(now.getSeconds()) + showAmPm();\n",
    "\tsetTimeout(showTheTime,1000);\n",
    "\t\n",
    "\tfunction showTheHours(theHour) {\t\n",
    "\t\tif (show24Hour() || (theHour > 0 && theHour < 13)) {\n",
    "\t\t\treturn theHour;\n",
    "\t\t}\n",
    "\t\tif (theHour == 0) {\n",
    "\t\t\treturn 12;\n",
    "\t\t}\n",
    "\t\treturn theHour-12;\n",
    "\t}\n",
    "\t\n",
    "\tfunction showZeroFilled(inValue) {\n",
    "\t\tif (inValue > 9) {\n",
    "\t\t\treturn \":\" + inValue;\n",
    "\t\t}\n",
    "\t\treturn \":0\" + inValue;\n",
    "\t}\n",
    "\n",
    "\tfunction show24Hour() {\n",
    "\t\treturn (document.getElementById(\"show24\").checked);\n",
    "\t}\n",
    "\t\n",
    "\tfunction showAmPm() {\n",
    "\t\tif (show24Hour()) {\n",
    "\t\t\treturn \"\";\n",
    "\t\t}\n",
    "\t\tif (now.getHours() < 12) {\n",
    "\t\t\treturn \" AM\";\n",
    "\t\t}\n",
    "\t\treturn \" PM\";\n",
    "\t}\n",
    "}\n"
   ]
  },
  {
   "cell_type": "markdown",
   "metadata": {},
   "source": [
    "## 11.6 创建倒数计数器"
   ]
  },
  {
   "cell_type": "code",
   "execution_count": null,
   "metadata": {},
   "outputs": [],
   "source": [
    "window.addEventListener(\"load\",showDays,false);\n",
    "\n",
    "function showDays() {\n",
    "\tvar spanTags = document.getElementsByTagName(\"span\");\n",
    "\t\n",
    "\tfor (var i=0; i<spanTags.length; i++) {\n",
    "\t\tif (spanTags[i].className.indexOf(\"daysTill\") > -1) {\n",
    "\t\t\tspanTags[i].innerHTML = showTheDaysTill(spanTags[i].id);\n",
    "\t\t}\n",
    "\t}\n",
    "\t\n",
    "\tfunction showTheDaysTill(thisDate) {\n",
    "\t\tvar theDays;\n",
    "\t\t\n",
    "\t\tswitch(thisDate) {\n",
    "\t\t\tcase \"anniv\":\n",
    "\t\t\t\ttheDays = daysTill(5,6);\n",
    "\t\t\t\tbreak;\n",
    "\t\t\tcase \"bday\":\n",
    "\t\t\t\ttheDays = daysTill(8,7);\n",
    "\t\t\t\tbreak;\n",
    "\t\t\tcase \"xmas\":\n",
    "\t\t\t\ttheDays = daysTill(12,25);\n",
    "\t\t\t\tbreak;\n",
    "\t\t\tdefault:\n",
    "\t\t}\n",
    "\t\treturn theDays + \" \";\n",
    "\t}\n",
    "\n",
    "\tfunction daysTill(mm,dd) {\n",
    "\t\tvar now = new Date();\n",
    "\t\tvar inDate = new Date(now.getFullYear(),mm-1,dd);\n",
    "\n",
    "\t\tif (inDate.getTime() < now.getTime()) {\n",
    "\t\t\tinDate.setYear(now.getFullYear()+1);\n",
    "\t\t}\n",
    "\n",
    "\t\treturn Math.ceil(dayToDays(inDate) - dayToDays(now));\n",
    "\t}\n",
    "\n",
    "\tfunction dayToDays(inTime) {\n",
    "\t\treturn inTime.getTime() / (1000 * 60 * 60 * 24);\n",
    "\t}\n",
    "}\n"
   ]
  },
  {
   "cell_type": "markdown",
   "metadata": {},
   "source": [
    "## 11.7 隐藏和显示层"
   ]
  },
  {
   "cell_type": "code",
   "execution_count": null,
   "metadata": {},
   "outputs": [],
   "source": [
    "window.addEventListener(\"load\",initAdvert,false);\n",
    "\n",
    "function initAdvert() {\n",
    "\tvar adBox = \"annoyingAdvert\";\n",
    "\t\n",
    "\tdocument.getElementById(adBox).style.display = \"block\";\n",
    "\tdocument.getElementById(\"closeBox\").addEventListener(\n",
    "\t\t\"click\",\n",
    "\t\tfunction() {\n",
    "\t\t\tdocument.getElementById(adBox).style.display = \"none\";\t\n",
    "\t\t},\n",
    "\t\tfalse\n",
    "\t);\n",
    "}\n"
   ]
  },
  {
   "cell_type": "markdown",
   "metadata": {},
   "source": [
    "## 11.8 移动文档中的对象"
   ]
  },
  {
   "cell_type": "code",
   "execution_count": null,
   "metadata": {},
   "outputs": [],
   "source": [
    "window.addEventListener(\"load\",initAdvert,false);\n",
    "\n",
    "function initAdvert() {\n",
    "\tvar adBox = \"annoyingAdvert\";\n",
    "\t\n",
    "\tdocument.getElementById(adBox).style.display = \"block\";\n",
    "\tdocument.getElementById(adBox).addEventListener(\"mouseover\",slide,false);\n",
    "\tdocument.getElementById(\"closeBox\").addEventListener(\n",
    "\t\t\"click\",\n",
    "\t\tfunction() {\n",
    "\t\t\tdocument.getElementById(adBox).style.display = \"none\";\t\n",
    "\t\t},\n",
    "\t\tfalse\n",
    "\t);\n",
    "}\n",
    "\n",
    "function slide() {\n",
    "\tvar adBox = \"annoyingAdvert\";\n",
    "\t\n",
    "\tif (nextPos(adBox) <= (document.body.clientWidth-150)) {\n",
    "\t\tdocument.getElementById(adBox).style.left = nextPos(adBox) + \"px\";\n",
    "\t\tsetTimeout(slide,100);\n",
    "\t}\n",
    "\t\n",
    "\tfunction nextPos(elem) {\n",
    "\t\treturn document.getElementById(elem).offsetLeft+1;\n",
    "\t}\n",
    "}\n"
   ]
  }
 ],
 "metadata": {
  "language_info": {
   "name": "python"
  },
  "orig_nbformat": 4
 },
 "nbformat": 4,
 "nbformat_minor": 2
}
