{
 "cells": [
  {
   "cell_type": "markdown",
   "metadata": {},
   "source": [
    "# 02 开始\n",
    "JavaScript 是一种面向对象（object-oriented）的语言。\n",
    "\n",
    "目前需要了解的HTML知识\n",
    "\n",
    "- html 包含网页的HTML部分\n",
    "- head 包含网页的页头部分\n",
    "- script 包含网页的脚本或对外部脚本文件的引用。脚本常常是JavaScript\n",
    "  - src 外部脚本的位置\n",
    "- title 包含网页的标题\n",
    "- body 包含网页的内容\n",
    "- h1...h6 这些标签的内容作为标题信息。h1是最大尺寸的标题，h6是最小尺寸的标题\n",
    "- a 链接到另一个网页\n",
    "  - href 指定当单击链接时，用户应该转到哪里\n",
    "\n",
    "## 2.1 脚本放在哪里\n",
    "\n",
    "脚本可以放在 HTML 页面上的两个位置：<head>和</head>标签之间（称为头脚本，header script），\n",
    "或者<body>和</body>标签之间"
   ]
  },
  {
   "cell_type": "code",
   "execution_count": null,
   "metadata": {},
   "outputs": [],
   "source": [
    "<!DOCTYPE html>\n",
    "<html>\n",
    "<head>\n",
    "\t<title>My first script</title>\n",
    "</head>\n",
    "<body>\n",
    "\t<h1>\n",
    "\t\t<script>\n",
    "\t\n",
    "\t\t\tdocument.write(\"Hello, world!\");\n",
    "\t\n",
    "\t\t</script>\n",
    "\t</h1>\n",
    "</body>\n",
    "</html>\n"
   ]
  },
  {
   "cell_type": "markdown",
   "metadata": {},
   "source": [
    "document.write(\"Hello, world!\");\n",
    "\n",
    "这是 JavaScript 的第一行：它获得文档窗口并在其中写入\"Hello, world!\"，"
   ]
  },
  {
   "cell_type": "markdown",
   "metadata": {},
   "source": [
    "## 2.2 关于函数\n",
    "\n",
    "## 2.3 使用外部脚本"
   ]
  },
  {
   "cell_type": "code",
   "execution_count": null,
   "metadata": {},
   "outputs": [],
   "source": [
    "<!DOCTYPE html>\n",
    "<html>\n",
    "<head>\n",
    "\t<title>My second script</title>\n",
    "\t<script src=\"script02.js\"></script>\n",
    "</head>\n",
    "<body>\n",
    "\t<h1 id=\"helloMessage\">\n",
    "\t</h1>\n",
    "</body>\n",
    "</html>"
   ]
  },
  {
   "cell_type": "code",
   "execution_count": null,
   "metadata": {},
   "outputs": [],
   "source": [
    "window.onload = writeMessage;\n",
    "// 当窗口完成加载时，运行 writeMessage 函数\n",
    "\n",
    "function writeMessage() {\n",
    "\tdocument.getElementById(\"helloMessage\").innerHTML = \"Hello, world!\";\n",
    "}\n"
   ]
  },
  {
   "cell_type": "markdown",
   "metadata": {},
   "source": [
    "## 2.5 向用户发出警告\n",
    "\n",
    "alert(\"Welcome to my JavaScript page!\"); \n",
    "\n",
    "## 2.6 确认用户的选择\n",
    "\n",
    "```javascript\n",
    "    if (confirm(\"Are you sure you want to do that?\")) {\n",
    "        alert(\"You said yes\");\n",
    "    }\n",
    "    else {\n",
    "        alert(\"You said no\");\n",
    "    } \n",
    "```"
   ]
  },
  {
   "cell_type": "markdown",
   "metadata": {},
   "source": [
    "1. if (confirm(\"Are you sure you want to do that?\")) {\n",
    "\n",
    "confirm()方法有一个参数（向用户询问的问题），并根据用户的响应返回 true 或 false\n",
    "\n",
    "另外，还有一种可以替代条件语句的方法，其形式如下：\n",
    "\n",
    "(condition) ? truePart : falsePart; \n",
    "\n",
    "同样的简写方法也可以用来设置变量，例如：\n",
    "\n",
    "myNewVariable = (condition) ? trueValue : falseValue;\n",
    "\n"
   ]
  },
  {
   "cell_type": "markdown",
   "metadata": {},
   "source": [
    "## 2.7 提示用户\n",
    "\n",
    "有时候，不是仅希望用户回答 Yes/No，而是希望得到更特定的响应。在这种情况下，可以问一个问题（带默认回答），然后接收回复。"
   ]
  },
  {
   "cell_type": "code",
   "execution_count": null,
   "metadata": {},
   "outputs": [],
   "source": [
    "var ans = prompt(\"Are you sure you want to do that?\",\"\");\n",
    "if (ans) {\n",
    "\talert(\"You said \" + ans);\n",
    "}\n",
    "else {\n",
    "\talert(\"You refused to answer\");\n",
    "}"
   ]
  },
  {
   "cell_type": "markdown",
   "metadata": {},
   "source": [
    "1. var ans = prompt(\"Are you sure you want to do that?\",\"\");\n",
    "\n",
    "这里声明了一个变量（在第 1 章中讨论过）。我们使用 var 关键字声明变量。在这个示例中，变量称为 ans，它被赋值为 prompt()的结果，也就是用户在提示对话框中输入的文本。\n",
    "\n",
    "传递给 prompt()方法的是由逗号分隔的两段信息（正式的术语是参数）：向用户询问的问题和默认回答。这个方法返回用户的响应或 null。当用户单击 Cancel 按钮，或当没有默认回答而用户单击了OK 按钮，再或当用户清除了默认回答并单击了 OK 按钮时，就会出现 null。"
   ]
  },
  {
   "cell_type": "markdown",
   "metadata": {},
   "source": [
    "## 2.8 用链接对用户进行重定向\n",
    "\n"
   ]
  },
  {
   "cell_type": "code",
   "execution_count": null,
   "metadata": {},
   "outputs": [],
   "source": [
    "<!DOCTYPE html>\n",
    "<html>\n",
    "<head>\n",
    "\t<title>Welcome to our site</title>\n",
    "\t<script src=\"script07.js\"></script>\n",
    "</head>\n",
    "<body>\n",
    "\t<h2>\n",
    "\t\t<a href=\"script04.html\" id=\"redirect\">Welcome to our site... c'mon in!</a>\n",
    "\t</h2>\n",
    "</body>\n",
    "</html>\n"
   ]
  },
  {
   "cell_type": "code",
   "execution_count": null,
   "metadata": {},
   "outputs": [],
   "source": [
    "window.onload = initAll;\n",
    "\n",
    "function initAll() {\n",
    "\tdocument.getElementById(\"redirect\").onclick = initRedirect;\n",
    "}\n",
    "\n",
    "function initRedirect() {\n",
    "\twindow.location = \"jswelcome.html\";\n",
    "\treturn false;\n",
    "}\n"
   ]
  },
  {
   "cell_type": "markdown",
   "metadata": {},
   "source": [
    "1. <a href=\"script04.html\" id=\"redirect\">Welcome to our site... c'mon in!</a>\n",
    "\n",
    "这是用户单击的链接。如果用户没有启用 JavaScript 功能并单击链接，那么他们会按照通常的 href 路径前进\n",
    "\n",
    "如果用户启用了 JavaScript 功能并单击链接，那么脚本就会发挥作用并加载一个新页面。\n",
    "\n",
    "2. window.onload = initAll;\n",
    "\n",
    "当完成页面加载时，它会触发 initAll()函数。\n",
    "\n",
    "3. function initAll() {\n",
    " document.getElementById(\"redirect\").onclick = initRedirect;\n",
    "} \n",
    "\n",
    "这个函数告诉id为redirect的元素（也就是步骤1中的链接），在它被单击时应该调用initRedirect()函数。\n",
    "\n",
    "4. function initRedirect() {\n",
    " window.location = \"jswelcome.html\";\n",
    " return false;\n",
    "} \n",
    "\n",
    "如果调用这个函数，它就将 window.location（即浏览器中显示的页面）设置为一个新页面。return false 表示停止对用户单击的处理，这样就不会加载 href 指向的页面。\n",
    "\n"
   ]
  },
  {
   "cell_type": "markdown",
   "metadata": {},
   "source": [
    "## 2.9 使用 JavaScript 改进链接\n",
    "\n",
    "有时候，在用户单击链接之后，但在浏览器转到链接的目的地之前，希望执行某种操作。典型的示例是，在用户进入站点上的特定页面之前发出警告，或者在用户离开站点时给出明确的提示。在这个示例中，我们将弹出一个警告对话框，然后再转到最终的目的地。\n"
   ]
  },
  {
   "cell_type": "code",
   "execution_count": null,
   "metadata": {},
   "outputs": [],
   "source": [
    "window.onload = initAll;\n",
    "\n",
    "function initAll() {\n",
    "\tdocument.getElementById(\"redirect\").onclick = initRedirect;\n",
    "}\n",
    "\n",
    "function initRedirect() {\n",
    "\talert(\"We are not responsible for the content of pages outside our site\");\n",
    "\twindow.location = this;\n",
    "\treturn false;\n",
    "}"
   ]
  },
  {
   "cell_type": "markdown",
   "metadata": {},
   "source": [
    " window.location = this;\n",
    "\n",
    " 这一行将浏览器窗口设置为关键字 this 指定的位置，this 包含这个链接。"
   ]
  },
  {
   "cell_type": "markdown",
   "metadata": {},
   "source": [
    "## 2.10 使用多级条件\n",
    "\n",
    "有时候，在一个条件测试中需要两个以上的选择，仅 then 和 else 是不够的。尽管可以嵌套 if语句，但更简单的方法常常是使用 switch/case 语句。switch/case 构造允许针对多个值检查一个变量。"
   ]
  },
  {
   "cell_type": "code",
   "execution_count": null,
   "metadata": {},
   "outputs": [],
   "source": [
    "<!DOCTYPE html>\n",
    "<html>\n",
    "<head>\n",
    "\t<title>Switch/Case handling</title>\n",
    "\t<script src=\"script09.js\"></script>\t\n",
    "</head>\n",
    "<body>\n",
    "<h2>Famous Presidential Quotes</h2>\n",
    "<form action=\"#\">\n",
    "\t<input type=\"button\" id=\"Lincoln\" value=\"Lincoln\"> \n",
    "\t<input type=\"button\" id=\"Kennedy\" value=\"Kennedy\">\n",
    "\t<input type=\"button\" id=\"Nixon\" value=\"Nixon\">\n",
    "</form>\n",
    "</body>\n",
    "</html>"
   ]
  },
  {
   "cell_type": "code",
   "execution_count": null,
   "metadata": {},
   "outputs": [],
   "source": [
    "window.onload = initAll;\n",
    "\n",
    "function initAll() {\n",
    "\tdocument.getElementById(\"Lincoln\").onclick = saySomething;\n",
    "\tdocument.getElementById(\"Kennedy\").onclick = saySomething;\n",
    "\tdocument.getElementById(\"Nixon\").onclick = saySomething;\n",
    "}\n",
    "\n",
    "function saySomething() {\n",
    "\tswitch(this.id) {\n",
    "\t\tcase \"Lincoln\":\n",
    "\t\t\talert(\"Four score and seven years ago...\");\n",
    "\t\t\tbreak;\n",
    "\t\tcase \"Kennedy\":\n",
    "\t\t\talert(\"Ask not what your country can do for you...\");\n",
    "\t\t\tbreak;\n",
    "\t\tcase \"Nixon\":\n",
    "\t\t\talert(\"I am not a crook!\");\n",
    "\t\t\tbreak;\n",
    "\t\tdefault:\n",
    "\t}\n",
    "}\n"
   ]
  },
  {
   "cell_type": "markdown",
   "metadata": {},
   "source": [
    "## 2.11 处理错误\n",
    "\n"
   ]
  },
  {
   "cell_type": "code",
   "execution_count": null,
   "metadata": {},
   "outputs": [],
   "source": [
    "window.onload = initAll;\n",
    "\n",
    "function initAll() {\t\n",
    "\tvar ans = prompt(\"Enter a number\",\"\");\n",
    "\ttry {\n",
    "\t\tif (!ans || isNaN(ans) || ans<0) {\n",
    "\t\t\tthrow new Error(\"Not a valid number\");\n",
    "\t\t}\n",
    "\t\talert(\"The square root of \" + ans + \" is \" + Math.sqrt(ans));\n",
    "\t}\n",
    "\tcatch (errMsg) {\n",
    "\t\talert(errMsg.message);\n",
    "\t}\n",
    "}"
   ]
  },
  {
   "cell_type": "markdown",
   "metadata": {},
   "source": []
  }
 ],
 "metadata": {
  "language_info": {
   "name": "python"
  },
  "orig_nbformat": 4
 },
 "nbformat": 4,
 "nbformat_minor": 2
}
