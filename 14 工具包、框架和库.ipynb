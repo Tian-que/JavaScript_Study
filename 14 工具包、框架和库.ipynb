{
 "cells": [
  {
   "cell_type": "markdown",
   "metadata": {},
   "source": [
    "## 14.1 添加 jQuery \n",
    "\n",
    "为了在网站中使用 JavaScript 框架，你需要对网站的页面代码作出一些修改。使用 jQuery 时，代码仅需少量修改。"
   ]
  },
  {
   "cell_type": "code",
   "execution_count": null,
   "metadata": {},
   "outputs": [],
   "source": [
    "<!DOCTYPE html>\n",
    "<html>\n",
    "<head>\n",
    "\t<title>Welcome to jQuery!</title>\n",
    "\t<script src=\"http://code.jquery.com/jquery-2.1.0.js\"></script> \n",
    "\t<script src=\"script01.js\"></script>\n",
    "</head>\n",
    "<body>\n",
    "\t<h1 id=\"welcome\"> </h1> \n",
    "</body>\n",
    "</html>"
   ]
  },
  {
   "cell_type": "markdown",
   "metadata": {},
   "source": [
    "$(document).ready(function() {\n",
    "\talert(\"Welcome to jQuery!\");\n",
    "});"
   ]
  },
  {
   "cell_type": "markdown",
   "metadata": {},
   "source": [
    "大多数用到 jQuery 的代码行都会以`$`符号作为开始，这行代码也不例外。$符号仅仅表示一个合法但不常见的函数名，jQuery 通过它来获取所需的一切。\n",
    "\n",
    "因为我们无论做什么都需要通过$，那么，毫无疑问应该首先获取 document 对象（一般是最顶层的元素）。\n",
    "\n",
    "ready()\n",
    "\n",
    "以前，我们通过检查 onload 事件来判断页面是否完全加载，现在则依赖于 jQuery 的 ready()函数。二者唯一的区别在于 onload 是事件处理程序（所以必须赋给函数），而ready()是有一个参数的函数。"
   ]
  },
  {
   "cell_type": "markdown",
   "metadata": {},
   "source": [
    "## 14.2 使用 jQuery 更新页面\n"
   ]
  },
  {
   "cell_type": "code",
   "execution_count": null,
   "metadata": {},
   "outputs": [],
   "source": [
    "$(document).ready(function() {\n",
    "\t$(\"#welcome\").append(\"Welcome to jQuery!\");\n",
    "});"
   ]
  },
  {
   "cell_type": "markdown",
   "metadata": {},
   "source": [
    "$(\"#welcome\").append(\"Welcome to jQuery!\");\n",
    "\n",
    "类似于获取 document 对象，使用$从页面上获取元素。现在获取到了#welcome 元素。然后，我们使用 jQuery 的 append()函数来设置元素的 innerHTML 属性。"
   ]
  },
  {
   "cell_type": "markdown",
   "metadata": {},
   "source": [
    "## 14.3 使用 jQuery 交互\n"
   ]
  },
  {
   "cell_type": "code",
   "execution_count": null,
   "metadata": {},
   "outputs": [],
   "source": [
    "$(document).ready(function() {\n",
    "\t$(\"a\").click(function(evt) {\n",
    "\t\t$(\"#colorMe\").css({\n",
    "\t\t\t\"color\": $(this).attr(\"id\")\n",
    "\t\t});\n",
    "\t\tevt.preventDefault();\n",
    "\t});\n",
    "});\n"
   ]
  }
 ],
 "metadata": {
  "language_info": {
   "name": "python"
  },
  "orig_nbformat": 4
 },
 "nbformat": 4,
 "nbformat_minor": 2
}
