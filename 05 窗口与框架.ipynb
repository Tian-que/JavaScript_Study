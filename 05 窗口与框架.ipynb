{
 "cells": [
  {
   "cell_type": "markdown",
   "metadata": {},
   "source": [
    "目前需要了解的HTML知识——框架\n",
    "- iframe 内部框架，它显示在进行调用的HTML页面中\n",
    "    - name JavaScript也可以使用这个属性引用iframe\n",
    "    - src iframe页面的URL"
   ]
  },
  {
   "cell_type": "markdown",
   "metadata": {},
   "source": [
    "## 5.1 防止页面显示在框架中\n"
   ]
  },
  {
   "cell_type": "code",
   "execution_count": null,
   "metadata": {},
   "outputs": [],
   "source": [
    "// JavaScript 可以迫使页面总是单独显示\n",
    "\n",
    "// 检查当前页面（self）的位置是否处于浏览器窗口层次结构的最顶层。\n",
    "if (top.location != self.location) {\n",
    "    // 如果当前页面不在顶层，就将顶层页面替换为当前页面的位置。\n",
    "    top.location.replace(self.location);\n",
    "} "
   ]
  },
  {
   "cell_type": "markdown",
   "metadata": {},
   "source": [
    "## 5.2 设置目标\n",
    "\n",
    "所谓的 iframe 是一种内联框架。也就是说，它是一种可以嵌入常规 HTML 页面中的框架，并非必须置于框架集之内。与一般的框架一样，iframe 也是一份独立的 HTML 文档。可以将 iframe 作为一段脚本的目标，这样便可以在脚本的控制下，实时创建内容并脱离框架集将其显示在页面中。"
   ]
  },
  {
   "cell_type": "code",
   "execution_count": null,
   "metadata": {},
   "outputs": [],
   "source": [
    "window.onload = initLinks;\n",
    "\n",
    "function initLinks() {\n",
    "\tfor (var i=0; i<document.links.length; i++) {\n",
    "\t\tdocument.links[i].target = \"icontent\";\n",
    "\t}\n",
    "}\n"
   ]
  },
  {
   "cell_type": "markdown",
   "metadata": {},
   "source": [
    "## 5.3 用 JavaScript 加载 iframe \n"
   ]
  },
  {
   "cell_type": "code",
   "execution_count": null,
   "metadata": {},
   "outputs": [],
   "source": [
    "window.onload = initLinks;\n",
    "\n",
    "function initLinks() {\n",
    "\tfor (var i=0; i<document.links.length; i++) {\n",
    "\t\tdocument.links[i].onclick = setContent;\n",
    "\t}\n",
    "}\n",
    "\n",
    "function setContent() {\n",
    "\tdocument.getElementById(\"icontent\").contentWindow.document.location.href = this.href;\n",
    "\treturn false;\n",
    "}\n"
   ]
  },
  {
   "cell_type": "markdown",
   "metadata": {},
   "source": [
    "## 5.4 iframe 的使用\n",
    "\n",
    "由于 JavaScript 可以实时创建页面内容，因此在基于用户的选择来加载 iframe 页面方面是非常有用的。"
   ]
  },
  {
   "cell_type": "code",
   "execution_count": null,
   "metadata": {},
   "outputs": [],
   "source": [
    "window.onload = initLinks;\n",
    "\n",
    "function initLinks() {\n",
    "\tfor (var i=0; i<document.links.length; i++) {\n",
    "\t\tdocument.links[i].onclick = writeContent;\n",
    "\t\tdocument.links[i].thisPage = i+1;\n",
    "\t}\n",
    "}\n",
    "\n",
    "function writeContent() {\n",
    "\tvar newText = \"<h1>You are now looking at example \" + this.thisPage + \".<\\/h1>\";\t\n",
    "\n",
    "\tdocument.getElementById(\"icontent\").contentWindow.document.body.innerHTML = newText;\n",
    "\treturn false;\n",
    "}\n"
   ]
  },
  {
   "cell_type": "markdown",
   "metadata": {},
   "source": [
    "## 5.5 创建动态 iframe"
   ]
  },
  {
   "cell_type": "code",
   "execution_count": null,
   "metadata": {},
   "outputs": [],
   "source": [
    "window.onload = initLinks;\n",
    "var pageCount = new Array(0,0,0,0);\n",
    "\n",
    "function initLinks() {\n",
    "\tfor (var i=0; i<document.links.length; i++) {\n",
    "\t\tdocument.links[i].onclick = writeContent;\n",
    "\t\tdocument.links[i].thisPage = i+1;\n",
    "\t}\n",
    "}\n",
    "\t\n",
    "function writeContent() {\n",
    "\tpageCount[this.thisPage]++;\n",
    "\n",
    "\tvar newText = \"<h1>You are now looking at example \" + this.thisPage;\n",
    "\tnewText += \".<br>You have been to this page \";\n",
    "\tnewText += pageCount[this.thisPage] + \" times.<\\/h1>\";\n",
    "\n",
    "\tdocument.getElementById(\"icontent\").contentWindow.document.body.innerHTML = newText;\n",
    "\treturn false;\n",
    "}\n"
   ]
  },
  {
   "cell_type": "markdown",
   "metadata": {},
   "source": [
    "## 5.6 在文档之间共享函数\n",
    "\n",
    "只要主窗口和 iframe 都来自同样的域，那么它们共享单个外部 JavaScript 文件是非常方便的。"
   ]
  },
  {
   "cell_type": "code",
   "execution_count": null,
   "metadata": {},
   "outputs": [],
   "source": [
    "// 这段脚本会更新父页面\n",
    "window.onload = initLinks;\n",
    "var bannerArray = new Array(\"images/reading1.gif\", \"images/reading2.gif\", \"images/reading3.gif\");\n",
    "\n",
    "function initLinks() {\n",
    "\tfor (var i=0; i<parent.document.links.length; i++) {\n",
    "\t\tparent.document.links[i].onclick = setBanner;\n",
    "\t}\n",
    "\n",
    "\tsetBanner();\t\n",
    "}\n",
    "\n",
    "function setBanner() {\n",
    "\tvar randomNum = Math.floor(Math.random() * bannerArray.length);\n",
    "\n",
    "\tparent.document.getElementById(\"adBanner\").src = bannerArray[randomNum];\n",
    "\treturn false;\n",
    "}\n"
   ]
  },
  {
   "cell_type": "markdown",
   "metadata": {},
   "source": [
    "## 5.7 打开新窗口"
   ]
  },
  {
   "cell_type": "code",
   "execution_count": null,
   "metadata": {},
   "outputs": [],
   "source": [
    "window.onload = newWinLinks;\n",
    "\n",
    "function newWinLinks() {\n",
    "\tfor (var i=0; i<document.links.length; i++) {\n",
    "\t\tif (document.links[i].className == \"newWin\") {\n",
    "\t\t\tdocument.links[i].onclick = newWindow;\n",
    "\t\t}\n",
    "\t}\n",
    "}\n",
    "\n",
    "function newWindow() {\n",
    "    // catWindow 包含一个新的窗口对象，指向图片文件 pixel1.jpg。新窗口的名称为 catWin。\n",
    "    // 名称是必填项，因为随后的代码中我们可能需要通过链接或其他脚本来指向此窗口。\n",
    "    // 新窗口的尺寸为 350 像素宽、260 像素高。这些参数是可选的。\n",
    "\tvar catWindow = window.open(\"images/pixel1.jpg\", \"catWin\", \"resizable=no,width=350,height=260\");\n",
    "\treturn false;\n",
    "}\n"
   ]
  },
  {
   "cell_type": "markdown",
   "metadata": {},
   "source": [
    "## 5.8 为窗口加载不同的内容"
   ]
  },
  {
   "cell_type": "code",
   "execution_count": null,
   "metadata": {},
   "outputs": [],
   "source": [
    "window.onload = newWinLinks;\n",
    "\n",
    "function newWinLinks() {\n",
    "\tfor (var i=0; i<document.links.length; i++) {\n",
    "\t\tif (document.links[i].className == \"newWin\") {\n",
    "\t\t\tdocument.links[i].onclick = newWindow;\n",
    "\t\t}\n",
    "\t}\n",
    "}\n",
    "\n",
    "function newWindow() {\n",
    "\tvar catWindow = window.open(this.href,\"catWin\",\"width=350,height=260\");\n",
    "\tcatWindow.focus();\n",
    "\treturn false;\n",
    "}\n"
   ]
  }
 ],
 "metadata": {
  "language_info": {
   "name": "python"
  },
  "orig_nbformat": 4
 },
 "nbformat": 4,
 "nbformat_minor": 2
}
