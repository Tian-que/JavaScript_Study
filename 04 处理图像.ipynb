{
 "cells": [
  {
   "cell_type": "markdown",
   "metadata": {},
   "source": [
    "目前需要了解的HTML知识——图像\n",
    "\n",
    "- img 其中包含描述浏览器要显示的图像的属性\n",
    "    - src 包含图像的URL，这个URL是相对于网页的URL来说的\n",
    "    - width 包含浏览器显示图像所用的宽度（以像素为单位）\n",
    "    - height 包含浏览器显示图像所用的高度（以像素为单位）\n",
    "    - alt 用来在非图形化浏览器中替代图像"
   ]
  },
  {
   "cell_type": "markdown",
   "metadata": {},
   "source": [
    "## 4.1 创建翻转器\n",
    "\n",
    "<a href=\"next.html\" onmouseover=\"document.images['arrow'].src='images/arrow_on.gif'\" onmouseout=\"document.images['arrow'].src='images/arrow_off.gif'\"><img src=\"images/arrow_off.gif\" id=\"arrow\" alt=\"arrow\"></a>\n",
    "\n",
    "2. onmouseover=\"document.images['arrow'].src='images/arrow_on.gif'\"\n",
    "当用户将鼠标移动到图像上时（id 为 arrow 的 src），images 目录中的替换图像 arrow_on.gif 被写到文档窗口中。\n",
    "\n",
    "3. onmouseout=\"document.images['arrow'].src='images/arrow_off.gif'\">\n",
    "当鼠标移走时，arrow_off.gif 图像重新显示。\n",
    "\n",
    "4. <img src=\"images/arrow_off.gif\" id=\"arrow\" alt=\"arrow\">\n",
    "图像链接为页面定义原始图像的来源。\n",
    "\n",
    "## 4.2 创建更有效的翻转器\n",
    "\n",
    "为了产生动画的效果，需要确保替换图像立刻出现，而不能有从服务器获得图像所造成的延迟。\n",
    "为此，使用 JavaScript 预先将所有图像加载到浏览器的缓存中，并且将图像放进脚本使用的变量中。"
   ]
  },
  {
   "cell_type": "code",
   "execution_count": null,
   "metadata": {},
   "outputs": [],
   "source": [
    "window.onload = rolloverInit;\n",
    "\n",
    "function rolloverInit() {\n",
    "\tfor (var i=0; i<document.images.length; i++) {\n",
    "\t\tif (document.images[i].parentNode.tagName == \"A\") {\n",
    "\t\t\tsetupRollover(document.images[i]);\n",
    "\t\t}\n",
    "\t}\n",
    "}\n",
    "\n",
    "function setupRollover(theImage) {\n",
    "\ttheImage.outImage = new Image();\n",
    "\ttheImage.outImage.src = theImage.src;\n",
    "\n",
    "    // 第一行开始定义一个匿名函数（也就是没有函数名的函数）。\n",
    "\ttheImage.onmouseout = function() {\n",
    "\t\tthis.src = this.outImage.src;\n",
    "\t}\n",
    "\n",
    "\ttheImage.overImage = new Image();\n",
    "\ttheImage.overImage.src = \"images/\" + theImage.id + \"_on.gif\";\n",
    "\ttheImage.onmouseover = function() {\n",
    "\t\tthis.src = this.overImage.src;\n",
    "\t}\n",
    "}\n"
   ]
  },
  {
   "cell_type": "markdown",
   "metadata": {},
   "source": [
    "## 4.3 构建三状态翻转器"
   ]
  },
  {
   "cell_type": "code",
   "execution_count": null,
   "metadata": {},
   "outputs": [],
   "source": [
    "window.onload = rolloverInit;\n",
    "\n",
    "function rolloverInit() {\n",
    "\tfor (var i=0; i<document.images.length; i++) {\n",
    "\t\tif (document.images[i].parentNode.tagName == \"A\") {\n",
    "\t\t\tsetupRollover(document.images[i]);\n",
    "\t\t}\n",
    "\t}\n",
    "}\n",
    "\n",
    "function setupRollover(theImage) {\n",
    "\ttheImage.outImage = new Image();\n",
    "\ttheImage.outImage.src = theImage.src;\n",
    "\ttheImage.onmouseout = function() {\n",
    "\t\tthis.src = this.outImage.src;\n",
    "\t}\n",
    "\n",
    "\ttheImage.clickImage = new Image();\n",
    "\ttheImage.clickImage.src = \"images/\" + theImage.id + \"_click.gif\";\n",
    "\ttheImage.onclick = function() {\n",
    "\t\tthis.src = this.clickImage.src;\n",
    "\t}\n",
    "\n",
    "\ttheImage.overImage = new Image();\n",
    "\ttheImage.overImage.src = \"images/\" + theImage.id + \"_on.gif\";\n",
    "\ttheImage.onmouseover = function() {\n",
    "\t\tthis.src = this.overImage.src;\n",
    "\t}\n",
    "}\n"
   ]
  },
  {
   "cell_type": "markdown",
   "metadata": {},
   "source": [
    "## 4.4 由链接触发翻转器\n"
   ]
  },
  {
   "cell_type": "code",
   "execution_count": null,
   "metadata": {},
   "outputs": [],
   "source": [
    "window.onload = rolloverInit;\n",
    "\n",
    "function rolloverInit() {\n",
    "\tfor (var i=0; i<document.links.length; i++) {\n",
    "\t\tvar linkObj =  document.links[i];\n",
    "\t\tif (linkObj.id) {\n",
    "\t\t\tvar imgObj = document.getElementById(linkObj.id + \"Img\");\n",
    "\t\t\tif (imgObj) {\n",
    "\t\t\t\tsetupRollover(linkObj,imgObj);\n",
    "\t\t\t}\n",
    "\t\t}\n",
    "\t}\n",
    "}\n",
    "\n",
    "function setupRollover(theLink,theImage) {\n",
    "\ttheLink.imgToChange = theImage;\n",
    "\ttheLink.onmouseout = function() {\n",
    "\t\tthis.imgToChange.src = this.outImage.src;\n",
    "\t}\n",
    "\ttheLink.onmouseover = function() {\n",
    "\t\tthis.imgToChange.src = this.overImage.src;\n",
    "\t}\n",
    "\t\n",
    "\ttheLink.outImage = new Image();\n",
    "\ttheLink.outImage.src = theImage.src;\n",
    "\n",
    "\ttheLink.overImage = new Image();\n",
    "\ttheLink.overImage.src = \"images/\" + theLink.id + \"_on.gif\";\n",
    "}\n"
   ]
  },
  {
   "cell_type": "markdown",
   "metadata": {},
   "source": [
    "## 4.5 让多个链接触发一个翻转器"
   ]
  },
  {
   "cell_type": "code",
   "execution_count": null,
   "metadata": {},
   "outputs": [],
   "source": [
    "window.onload = rolloverInit;\n",
    "\n",
    "function rolloverInit() {\n",
    "\tfor (var i=0; i<document.links.length; i++) {\n",
    "\t\tvar linkObj = document.links[i];\n",
    "\t\tif (linkObj.className) {\n",
    "\t\t\tvar imgObj = document.getElementById(linkObj.className);\n",
    "\t\t\tif (imgObj) {\n",
    "\t\t\t\tsetupRollover(linkObj,imgObj);\n",
    "\t\t\t}\n",
    "\t\t}\n",
    "\t}\n",
    "}\n",
    "\n",
    "function setupRollover(theLink,textImage) {\n",
    "\ttheLink.imgToChange = textImage;\n",
    "\ttheLink.onmouseout = function() {\n",
    "\t\tthis.imgToChange.src = this.outImage.src;\n",
    "\t}\n",
    "\ttheLink.onmouseover = function() {\n",
    "\t\tthis.imgToChange.src = this.overImage.src;\n",
    "\t}\n",
    "\t\n",
    "\ttheLink.outImage = new Image();\n",
    "\ttheLink.outImage.src = textImage.src;\n",
    "\n",
    "\ttheLink.overImage = new Image();\n",
    "\ttheLink.overImage.src = \"images/\" + theLink.id + \"Text.gif\";\n",
    "}\n"
   ]
  },
  {
   "cell_type": "markdown",
   "metadata": {},
   "source": [
    "## 4.6 处理多个翻转器\n",
    "\n"
   ]
  },
  {
   "cell_type": "code",
   "execution_count": null,
   "metadata": {},
   "outputs": [],
   "source": [
    "window.onload = rolloverInit;\n",
    "\n",
    "function rolloverInit() {\n",
    "\tfor (var i=0; i<document.links.length; i++) {\n",
    "\t\tvar linkObj = document.links[i];\n",
    "\t\tif (linkObj.className) {\n",
    "\t\t\tvar imgObj = document.getElementById(linkObj.className);\n",
    "\t\t\tif (imgObj) {\n",
    "\t\t\t\tsetupRollover(linkObj,imgObj);\n",
    "\t\t\t}\n",
    "\t\t}\n",
    "\t}\n",
    "}\n",
    "\n",
    "function setupRollover(theLink,textImage) {\n",
    "\ttheLink.imgToChange = new Array;\n",
    "\ttheLink.outImage = new Array;\n",
    "\ttheLink.overImage = new Array;\n",
    "\n",
    "\ttheLink.imgToChange[0] = textImage;\n",
    "\ttheLink.onmouseout = rollOut;\n",
    "\ttheLink.onmouseover = rollOver;\t\n",
    "\t\n",
    "\ttheLink.outImage[0] = new Image();\n",
    "\ttheLink.outImage[0].src = textImage.src;\n",
    "\n",
    "\ttheLink.overImage[0] = new Image();\n",
    "\ttheLink.overImage[0].src = \"images/\" + theLink.id + \"Text.gif\";\n",
    "\t\n",
    "\tvar rolloverObj = document.getElementById(theLink.id + \"Img\");\n",
    "\tif (rolloverObj) {\n",
    "\t\ttheLink.imgToChange[1] = rolloverObj;\n",
    "\n",
    "\t\ttheLink.outImage[1] = new Image();\n",
    "\t\ttheLink.outImage[1].src = rolloverObj.src;\n",
    "\t\n",
    "\t\ttheLink.overImage[1] = new Image();\n",
    "\t\ttheLink.overImage[1].src = \"images/\" + theLink.id + \"_on.gif\";\n",
    "\t} \n",
    "}\n",
    "\n",
    "function rollOver() {\n",
    "\tfor (var i=0;i<this.imgToChange.length; i++) {\n",
    "\t\tthis.imgToChange[i].src = this.overImage[i].src;\n",
    "\t}\n",
    "}\n",
    "\n",
    "function rollOut() {\n",
    "\tfor (var i=0;i<this.imgToChange.length; i++) {\n",
    "\t\tthis.imgToChange[i].src = this.outImage[i].src;\n",
    "\t}\n",
    "}\n"
   ]
  },
  {
   "cell_type": "markdown",
   "metadata": {},
   "source": [
    "## 4.7 创建循环的广告条"
   ]
  },
  {
   "cell_type": "code",
   "execution_count": null,
   "metadata": {},
   "outputs": [],
   "source": [
    "window.onload = rotate;\n",
    "\n",
    "var theAd = 0;\n",
    "var adImages = new Array(\"images/reading1.gif\",\"images/reading2.gif\",\"images/reading3.gif\");\n",
    "\n",
    "function rotate() {\n",
    "\ttheAd++;\n",
    "\tif (theAd == adImages.length) {\n",
    "\t\ttheAd = 0;\n",
    "\t}\n",
    "\tdocument.getElementById(\"adBanner\").src = adImages[theAd];\n",
    "\n",
    "\tsetTimeout(rotate, 3 * 1000);\n",
    "}\n"
   ]
  },
  {
   "cell_type": "markdown",
   "metadata": {},
   "source": [
    "6. setTimeout(rotate, 3 * 1000);\n",
    "这一行告诉脚本每隔多长时间改变广告条中的 GIF。可以使用内置的 JavaScript 命令 setTimeout指定一个操作应该间隔多长时间执行一次（时间的单位是毫秒）。在这个示例中，每 3000 毫秒（即 3秒）调用一次 rotate()函数，所以广告条中的 GIF 每 3 秒改变一次。"
   ]
  },
  {
   "cell_type": "markdown",
   "metadata": {},
   "source": [
    "## 4.8 在循环广告条中添加链接"
   ]
  },
  {
   "cell_type": "code",
   "execution_count": null,
   "metadata": {},
   "outputs": [],
   "source": [
    "window.onload = initBannerLink;\n",
    "\n",
    "var theAd = 0;\n",
    "var adURL = new Array(\"negrino.com\",\"sun.com\",\"microsoft.com\");\n",
    "var adImages = new Array(\"images/banner1.gif\",\"images/banner2.gif\",\"images/banner3.gif\");\n",
    "\n",
    "\n",
    "function initBannerLink() {\n",
    "\tif (document.getElementById(\"adBanner\").parentNode.tagName == \"A\") {\n",
    "\t\tdocument.getElementById(\"adBanner\").parentNode.onclick = newLocation;\n",
    "\t}\n",
    "\t\n",
    "\trotate();\n",
    "}\n",
    "\n",
    "function newLocation() {\n",
    "\tdocument.location.href = \"http://www.\" + adURL[theAd];\n",
    "\treturn false;\n",
    "}\n",
    "\n",
    "function rotate() {\n",
    "\ttheAd++;\n",
    "\tif (theAd == adImages.length) {\n",
    "\t\ttheAd = 0;\n",
    "\t}\n",
    "\tdocument.getElementById(\"adBanner\").src = adImages[theAd];\n",
    "\n",
    "\tsetTimeout(rotate, 3 * 1000);\n",
    "}\n"
   ]
  },
  {
   "cell_type": "markdown",
   "metadata": {},
   "source": [
    "## 4.9 建立循环式幻灯片\n",
    "\n"
   ]
  },
  {
   "cell_type": "code",
   "execution_count": null,
   "metadata": {},
   "outputs": [],
   "source": [
    "window.onload = initLinks;\n",
    "\n",
    "var thePic = 0;\n",
    "var myPix = new Array(\"images/robot1.jpg\",\"images/robot2.jpg\",\"images/robot3.jpg\");\n",
    "\n",
    "function initLinks() {\n",
    "\tdocument.getElementById(\"prevLink\").onclick = processPrevious;\n",
    "\tdocument.getElementById(\"nextLink\").onclick = processNext;\n",
    "}\n",
    "\n",
    "function processPrevious() {\n",
    "\tif (thePic == 0) {\n",
    "\t\tthePic = myPix.length;\n",
    "\t}\n",
    "\tthePic--;\n",
    "\tdocument.getElementById(\"myPicture\").src = myPix[thePic];\n",
    "\treturn false;\n",
    "}\n",
    "\n",
    "function processNext() {\n",
    "\tthePic++;\n",
    "\tif (thePic == myPix.length) {\n",
    "\t\tthePic = 0;\n",
    "\t}\n",
    "\tdocument.getElementById(\"myPicture\").src = myPix[thePic];\n",
    "\treturn false;\n",
    "}\n"
   ]
  },
  {
   "cell_type": "markdown",
   "metadata": {},
   "source": [
    "## 4.10 显示随机图像\n"
   ]
  },
  {
   "cell_type": "code",
   "execution_count": null,
   "metadata": {},
   "outputs": [],
   "source": [
    "window.onload = choosePic;\n",
    "\n",
    "var myPix = new Array(\"images/lion.jpg\",\"images/tiger.jpg\",\"images/bear.jpg\");\n",
    "\n",
    "function choosePic() {\n",
    "\tvar randomNum = Math.floor(Math.random() * myPix.length);\n",
    "\tdocument.getElementById(\"myPicture\").src = myPix[randomNum];\n",
    "}\n"
   ]
  },
  {
   "cell_type": "markdown",
   "metadata": {},
   "source": [
    "## 4.11 随机开始循环显示图像"
   ]
  },
  {
   "cell_type": "code",
   "execution_count": null,
   "metadata": {},
   "outputs": [],
   "source": [
    "window.onload = choosePic;\n",
    "\n",
    "var theAd = 0;\n",
    "var adImages = new Array(\"images/reading1.gif\",\"images/reading2.gif\",\"images/reading3.gif\");\n",
    "\n",
    "function choosePic() {\n",
    "\ttheAd = Math.floor(Math.random() * adImages.length);\n",
    "\tdocument.getElementById(\"adBanner\").src = adImages[theAd];\n",
    "\t\n",
    "\trotate();\n",
    "}\n",
    "\n",
    "function rotate() {\n",
    "\ttheAd++;\n",
    "\tif (theAd == adImages.length) {\n",
    "\t\ttheAd = 0;\n",
    "\t}\n",
    "\tdocument.getElementById(\"adBanner\").src = adImages[theAd];\n",
    "\n",
    "\tsetTimeout(rotate, 3 * 1000);\n",
    "}\n"
   ]
  }
 ],
 "metadata": {
  "language_info": {
   "name": "python"
  },
  "orig_nbformat": 4
 },
 "nbformat": 4,
 "nbformat_minor": 2
}
