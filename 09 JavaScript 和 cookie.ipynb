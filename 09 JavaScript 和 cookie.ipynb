{
 "cells": [
  {
   "cell_type": "markdown",
   "metadata": {},
   "source": [
    "## 9.1 建立第一个 cookie\n",
    "cookie 是一个具有特定格式的文本字符串：\n",
    "\n",
    "cookieName=cookieValue;expires=expirationDateGMT;path=URLpath;domain=siteDomain\n",
    "\n",
    "这个字符串的第一部分给 cookie 命名并给它赋值。这是 cookie 中唯一必须有的部分，字符串的其余部分都是可选的。接下来是 cookie 的过期日期（expiration date），当到了这个日期，浏览器会自动删除这个 cookie。过期日期后面是一个 URL 路径，这允许在 cookie 中存储一个 URL。最后，可以在cookie 中存储一个域值。"
   ]
  },
  {
   "cell_type": "code",
   "execution_count": null,
   "metadata": {},
   "outputs": [],
   "source": [
    "window.addEventListener(\"load\",nameFieldInit,false);\n",
    "\n",
    "function nameFieldInit() {\n",
    "\tvar userName = \"\";\n",
    "\tif (document.cookie != \"\") {\n",
    "\t\tuserName = document.cookie.split(\"=\")[1];\n",
    "\t}\n",
    "\n",
    "\tdocument.getElementById(\"nameField\").value = userName;\n",
    "\n",
    "    // 当用户离开这个文本字段时，onblur 事件处理程序会调用setCookie()函数\n",
    "\tdocument.getElementById(\"nameField\").onblur = setCookie;\n",
    "\tdocument.getElementById(\"cookieForm\").onsubmit = setCookie;\n",
    "}\n",
    "\n",
    "function setCookie() {\n",
    "\tvar expireDate = new Date();\n",
    "\texpireDate.setMonth(expireDate.getMonth()+6);\n",
    "\t\n",
    "\tvar userName = document.getElementById(\"nameField\").value;\n",
    "\n",
    "    // 写 cookie \n",
    "\tdocument.cookie = \"userName=\" + userName + \";expires=\" + expireDate.toGMTString();\n",
    "\t\n",
    "\tdocument.getElementById(\"nameField\").blur();\n",
    "\treturn false;\n",
    "}\n",
    "\n"
   ]
  },
  {
   "cell_type": "markdown",
   "metadata": {},
   "source": [
    "## 9.2 读取 cookie "
   ]
  },
  {
   "cell_type": "code",
   "execution_count": null,
   "metadata": {},
   "outputs": [],
   "source": [
    "window.addEventListener(\"load\",nameFieldInit,false);\n",
    "\n",
    "function nameFieldInit() {\n",
    "\tif (document.cookie != \"\") {\n",
    "\t\tdocument.getElementById(\"nameField\").innerHTML = \"Hello, \" + document.cookie.split(\"=\")[1];\n",
    "\t}\n",
    "}\n"
   ]
  },
  {
   "cell_type": "markdown",
   "metadata": {},
   "source": [
    "## 9.3 显示 cookie "
   ]
  },
  {
   "cell_type": "code",
   "execution_count": null,
   "metadata": {},
   "outputs": [],
   "source": [
    "window.addEventListener(\"load\",showCookies,false);\n",
    "\n",
    "function showCookies() {\n",
    "\tvar outMsg = \"\";\n",
    "\n",
    "\tif (document.cookie == \"\") {\n",
    "\t\toutMsg = \"There are no cookies here\";\n",
    "\t}\n",
    "\telse {\n",
    "\t\tvar thisCookie = document.cookie.split(\"; \");\n",
    "\t\n",
    "\t\tfor (var i=0; i<thisCookie.length; i++) {\n",
    "\t\t\toutMsg += \"Cookie name is '\" + thisCookie[i].split(\"=\")[0];\n",
    "\t\t\toutMsg += \"', and the value is '\" + thisCookie[i].split(\"=\")[1] + \"'<br>\";\n",
    "\t\t}\n",
    "\t}\n",
    "\tdocument.getElementById(\"cookieData\").innerHTML = outMsg;\n",
    "}\n"
   ]
  },
  {
   "cell_type": "markdown",
   "metadata": {},
   "source": [
    "## 9.4 使用 cookie 作为计数器"
   ]
  },
  {
   "cell_type": "code",
   "execution_count": null,
   "metadata": {},
   "outputs": [],
   "source": [
    "window.addEventListener(\"load\",initPage,false);\n",
    "\n",
    "function initPage() {\n",
    "\tvar expireDate = new Date();\n",
    "\texpireDate.setMonth(expireDate.getMonth()+6);\n",
    "\n",
    "\tvar hitCt = parseInt(cookieVal(\"pageHit\"));\n",
    "\thitCt++;\n",
    "\n",
    "\tdocument.cookie = \"pageHit=\" + hitCt + \";expires=\" + expireDate.toGMTString();\n",
    "\tdocument.getElementById(\"pageHits\").innerHTML = \"You have visited this page \" + hitCt + \" times.\";\n",
    "}\n",
    "\n",
    "function cookieVal(cookieName) {\n",
    "\tvar thisCookie = document.cookie.split(\"; \");\n",
    "\t\n",
    "\tfor (var i=0; i<thisCookie.length; i++) {\n",
    "\t\tif (cookieName == thisCookie[i].split(\"=\")[0]) {\n",
    "\t\t\treturn thisCookie[i].split(\"=\")[1];\n",
    "\t\t}\n",
    "\t}\n",
    "\treturn 0;\n",
    "}\n"
   ]
  },
  {
   "cell_type": "markdown",
   "metadata": {},
   "source": [
    "## 9.5 删除 cookie \n",
    "\n",
    "有时候，你希望删除 cookie 记录中的一个或多个 cookie。这非常容易，一种效果很好的技术是，将 cookie 的过期日期设置为过去的某个日期，这会让浏览器自动地删除它。"
   ]
  },
  {
   "cell_type": "code",
   "execution_count": null,
   "metadata": {},
   "outputs": [],
   "source": [
    "window.addEventListener(\"load\",cookieDelete,false);\n",
    "\n",
    "function cookieDelete() {\n",
    "\tvar cookieCt = 0;\n",
    "\n",
    "\tif (document.cookie != \"\" && confirm(\"Do you want to delete the cookies?\")) {\n",
    "\t\tvar thisCookie = document.cookie.split(\"; \");\n",
    "\t\tcookieCt = thisCookie.length;\n",
    "\t\t\n",
    "\t\tvar expireDate = new Date();\n",
    "\t\texpireDate.setDate(expireDate.getDate()-1);\n",
    "\n",
    "\t\tfor (var i=0; i<cookieCt; i++) {\n",
    "\t\t\tvar cookieName = thisCookie[i].split(\"=\")[0];\n",
    "\t\t\tdocument.cookie = cookieName + \"=;expires=\" + expireDate.toGMTString();\n",
    "\t\t}\n",
    "\t}\n",
    "\tdocument.getElementById(\"cookieData\").innerHTML = \"Number of cookies deleted: \" + cookieCt;\n",
    "}\n",
    "\n"
   ]
  },
  {
   "cell_type": "markdown",
   "metadata": {},
   "source": [
    "## 9.6 处理多个 cookie \n"
   ]
  },
  {
   "cell_type": "code",
   "execution_count": null,
   "metadata": {},
   "outputs": [],
   "source": [
    "window.addEventListener(\"load\",initPage,false);\n",
    "\n",
    "function initPage() {\n",
    "\tvar now = new Date();\n",
    "\tvar expireDate = new Date();\n",
    "\texpireDate.setMonth(expireDate.getMonth()+6);\n",
    "   \n",
    "\tvar hitCt = parseInt(cookieVal(\"pageHit\"));\n",
    "\thitCt++;\n",
    "\t\n",
    "\tvar lastVisit = cookieVal(\"pageVisit\");\n",
    "\tif (lastVisit == 0) {\n",
    "\t\tlastVisit = \"\";\n",
    "\t}\n",
    "\t\n",
    "\tdocument.cookie = \"pageHit=\" + hitCt + \";expires=\" + expireDate.toGMTString();\n",
    "\tdocument.cookie = \"pageVisit=\" + now + \";expires=\" + expireDate.toGMTString();\n",
    "\t\n",
    "\tvar outMsg = \"You have visited this page \" + hitCt + \" times.\";\n",
    "\tif (lastVisit != \"\") {\n",
    "\t\toutMsg += \"<br>Your last visit was \" + lastVisit;\n",
    "\t}\n",
    "\tdocument.getElementById(\"cookieData\").innerHTML = outMsg;\n",
    "}\n",
    "\n",
    "function cookieVal(cookieName) {\n",
    "\tvar thisCookie = document.cookie.split(\"; \");\n",
    "\t\n",
    "\tfor (var i=0; i<thisCookie.length; i++) {\n",
    "\t\tif (cookieName == thisCookie[i].split(\"=\")[0]) {\n",
    "\t\t\treturn thisCookie[i].split(\"=\")[1];\n",
    "\t\t}\n",
    "\t}\n",
    "\treturn 0;\n",
    "}\n"
   ]
  },
  {
   "cell_type": "markdown",
   "metadata": {},
   "source": [
    "## 9.7 显示新内容提醒信息\n",
    "\n",
    "用cookie记录用户上一次访问的位置"
   ]
  },
  {
   "cell_type": "code",
   "execution_count": null,
   "metadata": {},
   "outputs": [],
   "source": [
    "window.addEventListener(\"load\",initPage,false);\n",
    "\n",
    "function initPage() {\n",
    "\tvar now = new Date();\n",
    "\tvar lastVisit = new Date(cookieVal(\"pageVisit\"));\n",
    "\tvar expireDate = new Date();\n",
    "\texpireDate.setMonth(expireDate.getMonth()+6);\n",
    "\t\n",
    "\tdocument.cookie = \"pageVisit=\" + now + \";expires=\" + expireDate.toGMTString();\n",
    "\tvar allGrafs = document.getElementsByTagName(\"p\");\n",
    "\t\n",
    "\tfor (var i=0; i<allGrafs.length; i++) {\n",
    "\t\tif (allGrafs[i].id.indexOf(\"New-\") != -1) {\n",
    "\t\t\tnewCheck(allGrafs[i],allGrafs[i].id.substring(4));\n",
    "\t\t}\n",
    "\t}\t\n",
    "\t\n",
    "\tfunction newCheck(grafElement,dtString) {\n",
    "\t\tvar yyyy = parseInt(dtString.substring(0,4),10);\n",
    "\t\tvar mm = parseInt(dtString.substring(4,6),10);\n",
    "\t\tvar dd = parseInt(dtString.substring(6,8),10);\n",
    "\t\tvar lastChgd = new Date(yyyy,mm-1,dd);\n",
    "\t\t\t\n",
    "\t\tif (lastChgd.getTime() > lastVisit.getTime()) {\n",
    "\t\t\tgrafElement.className += \" newImg\";\n",
    "\t\t}\n",
    "\t}\n",
    "}\n",
    "\n",
    "function cookieVal(cookieName) {\n",
    "\tvar thisCookie = document.cookie.split(\"; \");\n",
    "\n",
    "\tfor (var i=0; i<thisCookie.length; i++) {\n",
    "\t\tif (cookieName == thisCookie[i].split(\"=\")[0]) {\n",
    "\t\t\treturn thisCookie[i].split(\"=\")[1];\n",
    "\t\t}\n",
    "\t}\n",
    "\treturn \"1 January 1970\";\n",
    "}\n"
   ]
  }
 ],
 "metadata": {
  "language_info": {
   "name": "python"
  },
  "orig_nbformat": 4
 },
 "nbformat": 4,
 "nbformat_minor": 2
}
